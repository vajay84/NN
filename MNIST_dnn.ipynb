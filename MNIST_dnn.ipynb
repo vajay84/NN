{
 "cells": [
  {
   "cell_type": "markdown",
   "id": "2572a11a",
   "metadata": {},
   "source": [
    "## Deep Neural Network for MNIST Dataset"
   ]
  },
  {
   "cell_type": "markdown",
   "id": "7394e46f",
   "metadata": {},
   "source": [
    "**Importing Libraries**"
   ]
  },
  {
   "cell_type": "code",
   "execution_count": 1,
   "id": "15c74487",
   "metadata": {},
   "outputs": [
    {
     "name": "stderr",
     "output_type": "stream",
     "text": [
      "2021-11-11 11:18:15.609394: W tensorflow/stream_executor/platform/default/dso_loader.cc:64] Could not load dynamic library 'libcudart.so.11.0'; dlerror: libcudart.so.11.0: cannot open shared object file: No such file or directory\n",
      "2021-11-11 11:18:15.609419: I tensorflow/stream_executor/cuda/cudart_stub.cc:29] Ignore above cudart dlerror if you do not have a GPU set up on your machine.\n"
     ]
    }
   ],
   "source": [
    "import pandas as pd\n",
    "import numpy as np\n",
    "import matplotlib.pyplot as plt\n",
    "import seaborn as sn\n",
    "import tensorflow.keras as keras\n",
    "from warnings import filterwarnings\n",
    "filterwarnings(\"ignore\")"
   ]
  },
  {
   "cell_type": "markdown",
   "id": "be141c3c",
   "metadata": {},
   "source": [
    "#### Loading MNIST dataset from keras"
   ]
  },
  {
   "cell_type": "code",
   "execution_count": 2,
   "id": "33c5733e",
   "metadata": {},
   "outputs": [],
   "source": [
    "mnist = keras.datasets.mnist.load_data()"
   ]
  },
  {
   "cell_type": "code",
   "execution_count": 3,
   "id": "d4e42a03",
   "metadata": {},
   "outputs": [
    {
     "name": "stdout",
     "output_type": "stream",
     "text": [
      "Shape of training data = (60000, 28, 28)\n",
      "Shape of testing data = (10000, 28, 28)\n"
     ]
    }
   ],
   "source": [
    "(train_x_all, train_y), (test_x_all, test_y) = mnist\n",
    "print(f'Shape of training data = {train_x_all.shape}')\n",
    "print(f'Shape of testing data = {test_x_all.shape}')"
   ]
  },
  {
   "cell_type": "code",
   "execution_count": 5,
   "id": "68b8c28b",
   "metadata": {},
   "outputs": [
    {
     "data": {
      "image/png": "[encoded data removed]",
      "text/plain": [
       "<Figure size 432x288 with 4 Axes>"
      ]
     },
     "metadata": {
      "needs_background": "light"
     },
     "output_type": "display_data"
    }
   ],
   "source": [
    "fig, ax =  plt.subplots(1, 4)\n",
    "for i in range(4):\n",
    "    ax[i].imshow(train_x_all[i])\n",
    "    ax[i].set_title(train_y[i])\n",
    "    ax[i].axis('off')\n",
    "    "
   ]
  },
  {
   "cell_type": "code",
   "execution_count": 6,
   "id": "77261f77",
   "metadata": {},
   "outputs": [],
   "source": [
    "train_x = train_x_all/255.0\n",
    "test_x =  test_x_all/255.0"
   ]
  },
  {
   "cell_type": "code",
   "execution_count": 7,
   "id": "13658941",
   "metadata": {},
   "outputs": [
    {
     "name": "stdout",
     "output_type": "stream",
     "text": [
      "Model: \"mnist\"\n",
      "_________________________________________________________________\n",
      "Layer (type)                 Output Shape              Param #   \n",
      "=================================================================\n",
      "Input (Flatten)              (None, 784)               0         \n",
      "_________________________________________________________________\n",
      "dense (Dense)                (None, 32)                25120     \n",
      "_________________________________________________________________\n",
      "Output (Dense)               (None, 10)                330       \n",
      "=================================================================\n",
      "Total params: 25,450\n",
      "Trainable params: 25,450\n",
      "Non-trainable params: 0\n",
      "_________________________________________________________________\n"
     ]
    },
    {
     "name": "stderr",
     "output_type": "stream",
     "text": [
      "2021-11-11 11:18:30.897962: W tensorflow/stream_executor/platform/default/dso_loader.cc:64] Could not load dynamic library 'libcuda.so.1'; dlerror: libcuda.so.1: cannot open shared object file: No such file or directory\n",
      "2021-11-11 11:18:30.898002: W tensorflow/stream_executor/cuda/cuda_driver.cc:326] failed call to cuInit: UNKNOWN ERROR (303)\n",
      "2021-11-11 11:18:30.898026: I tensorflow/stream_executor/cuda/cuda_diagnostics.cc:156] kernel driver does not appear to be running on this host (ajay-pc): /proc/driver/nvidia/version does not exist\n",
      "2021-11-11 11:18:30.898269: I tensorflow/core/platform/cpu_feature_guard.cc:142] This TensorFlow binary is optimized with oneAPI Deep Neural Network Library (oneDNN) to use the following CPU instructions in performance-critical operations:  AVX2 FMA\n",
      "To enable them in other operations, rebuild TensorFlow with the appropriate compiler flags.\n"
     ]
    }
   ],
   "source": [
    "model = keras.Sequential(name='mnist')\n",
    "model.add(keras.layers.Flatten(input_shape=[28, 28], name='Input'))\n",
    "model.add(keras.layers.Dense(32, activation='relu'))\n",
    "model.add(keras.layers.Dense(10, activation = keras.activations.softmax, name=\"Output\"))\n",
    "model.summary()"
   ]
  },
  {
   "cell_type": "markdown",
   "id": "61050a30",
   "metadata": {},
   "source": [
    "#### Weights and Bias of a layer"
   ]
  },
  {
   "cell_type": "code",
   "execution_count": 8,
   "id": "d92d70a0",
   "metadata": {},
   "outputs": [
    {
     "name": "stdout",
     "output_type": "stream",
     "text": [
      "Layer_name: dense\n",
      "Weights: [[-0.05798671 -0.06895332  0.04718959 ...  0.03059975 -0.03642075\n",
      "  -0.04417598]\n",
      " [-0.01540481 -0.04965516  0.0754829  ... -0.07455505 -0.04795964\n",
      "  -0.03358974]\n",
      " [-0.02240572  0.01247112 -0.07137351 ... -0.05446515 -0.04533474\n",
      "  -0.02163418]\n",
      " ...\n",
      " [-0.03172852  0.08316622  0.0774757  ...  0.07969113 -0.03901316\n",
      "  -0.0857258 ]\n",
      " [ 0.02518184 -0.01061662 -0.07440273 ...  0.07520888  0.07148368\n",
      "   0.0551041 ]\n",
      " [-0.02410092 -0.0261214   0.06071661 ... -0.03541164 -0.02638111\n",
      "   0.0662254 ]]\n",
      "Biases: [0. 0. 0. 0. 0. 0. 0. 0. 0. 0. 0. 0. 0. 0. 0. 0. 0. 0. 0. 0. 0. 0. 0. 0.\n",
      " 0. 0. 0. 0. 0. 0. 0. 0.]\n"
     ]
    }
   ],
   "source": [
    "layer = model.layers[1]\n",
    "weights, biases = layer.get_weights()\n",
    "print(\"Layer_name:\", layer.name)\n",
    "print(\"Weights:\", weights)\n",
    "print(\"Biases:\", biases)"
   ]
  },
  {
   "cell_type": "markdown",
   "id": "083b3916",
   "metadata": {},
   "source": [
    "#### Compiling and training model"
   ]
  },
  {
   "cell_type": "code",
   "execution_count": 9,
   "id": "1ad15f8b",
   "metadata": {},
   "outputs": [],
   "source": [
    "model.compile(loss = keras.losses.sparse_categorical_crossentropy, optimizer = 'sgd', metrics=['accuracy'])"
   ]
  },
  {
   "cell_type": "code",
   "execution_count": 13,
   "id": "78906503",
   "metadata": {},
   "outputs": [
    {
     "name": "stdout",
     "output_type": "stream",
     "text": [
      "Epoch 1/30\n",
      "1500/1500 [==============================] - 1s 887us/step - loss: 0.0800 - accuracy: 0.9778 - val_loss: 0.1164 - val_accuracy: 0.9670\n",
      "Epoch 2/30\n",
      "1500/1500 [==============================] - 1s 869us/step - loss: 0.0791 - accuracy: 0.9778 - val_loss: 0.1159 - val_accuracy: 0.9672\n",
      "Epoch 3/30\n",
      "1500/1500 [==============================] - 1s 882us/step - loss: 0.0782 - accuracy: 0.9783 - val_loss: 0.1134 - val_accuracy: 0.9672\n",
      "Epoch 4/30\n",
      "1500/1500 [==============================] - 1s 880us/step - loss: 0.0773 - accuracy: 0.9786 - val_loss: 0.1137 - val_accuracy: 0.9672\n",
      "Epoch 5/30\n",
      "1500/1500 [==============================] - 1s 887us/step - loss: 0.0763 - accuracy: 0.9786 - val_loss: 0.1134 - val_accuracy: 0.9672\n",
      "Epoch 6/30\n",
      "1500/1500 [==============================] - 1s 889us/step - loss: 0.0756 - accuracy: 0.9793 - val_loss: 0.1133 - val_accuracy: 0.9671\n",
      "Epoch 7/30\n",
      "1500/1500 [==============================] - 1s 893us/step - loss: 0.0746 - accuracy: 0.9796 - val_loss: 0.1134 - val_accuracy: 0.9668\n",
      "Epoch 8/30\n",
      "1500/1500 [==============================] - 1s 893us/step - loss: 0.0739 - accuracy: 0.9796 - val_loss: 0.1132 - val_accuracy: 0.9670\n",
      "Epoch 9/30\n",
      "1500/1500 [==============================] - 1s 877us/step - loss: 0.0732 - accuracy: 0.9798 - val_loss: 0.1123 - val_accuracy: 0.9672\n",
      "Epoch 10/30\n",
      "1500/1500 [==============================] - 1s 884us/step - loss: 0.0723 - accuracy: 0.9802 - val_loss: 0.1126 - val_accuracy: 0.9670\n",
      "Epoch 11/30\n",
      "1500/1500 [==============================] - 1s 897us/step - loss: 0.0715 - accuracy: 0.9800 - val_loss: 0.1117 - val_accuracy: 0.9682\n",
      "Epoch 12/30\n",
      "1500/1500 [==============================] - 1s 968us/step - loss: 0.0709 - accuracy: 0.9808 - val_loss: 0.1118 - val_accuracy: 0.9679\n",
      "Epoch 13/30\n",
      "1500/1500 [==============================] - 1s 950us/step - loss: 0.0700 - accuracy: 0.9809 - val_loss: 0.1113 - val_accuracy: 0.9671\n",
      "Epoch 14/30\n",
      "1500/1500 [==============================] - 1s 937us/step - loss: 0.0693 - accuracy: 0.9814 - val_loss: 0.1113 - val_accuracy: 0.9674\n",
      "Epoch 15/30\n",
      "1500/1500 [==============================] - 1s 875us/step - loss: 0.0685 - accuracy: 0.9813 - val_loss: 0.1112 - val_accuracy: 0.9678\n",
      "Epoch 16/30\n",
      "1500/1500 [==============================] - 1s 895us/step - loss: 0.0679 - accuracy: 0.9813 - val_loss: 0.1119 - val_accuracy: 0.9671\n",
      "Epoch 17/30\n",
      "1500/1500 [==============================] - 1s 895us/step - loss: 0.0671 - accuracy: 0.9815 - val_loss: 0.1113 - val_accuracy: 0.9678\n",
      "Epoch 18/30\n",
      "1500/1500 [==============================] - 1s 905us/step - loss: 0.0665 - accuracy: 0.9820 - val_loss: 0.1103 - val_accuracy: 0.9672\n",
      "Epoch 19/30\n",
      "1500/1500 [==============================] - 1s 900us/step - loss: 0.0659 - accuracy: 0.9823 - val_loss: 0.1109 - val_accuracy: 0.9668\n",
      "Epoch 20/30\n",
      "1500/1500 [==============================] - 1s 892us/step - loss: 0.0653 - accuracy: 0.9821 - val_loss: 0.1106 - val_accuracy: 0.9687\n",
      "Epoch 21/30\n",
      "1500/1500 [==============================] - 1s 889us/step - loss: 0.0646 - accuracy: 0.9824 - val_loss: 0.1102 - val_accuracy: 0.9678\n",
      "Epoch 22/30\n",
      "1500/1500 [==============================] - 1s 895us/step - loss: 0.0639 - accuracy: 0.9830 - val_loss: 0.1116 - val_accuracy: 0.9672\n",
      "Epoch 23/30\n",
      "1500/1500 [==============================] - 1s 887us/step - loss: 0.0634 - accuracy: 0.9826 - val_loss: 0.1119 - val_accuracy: 0.9681\n",
      "Epoch 24/30\n",
      "1500/1500 [==============================] - 1s 897us/step - loss: 0.0627 - accuracy: 0.9829 - val_loss: 0.1103 - val_accuracy: 0.9674\n",
      "Epoch 25/30\n",
      "1500/1500 [==============================] - 1s 898us/step - loss: 0.0623 - accuracy: 0.9833 - val_loss: 0.1097 - val_accuracy: 0.9678\n",
      "Epoch 26/30\n",
      "1500/1500 [==============================] - 1s 898us/step - loss: 0.0616 - accuracy: 0.9834 - val_loss: 0.1105 - val_accuracy: 0.9682\n",
      "Epoch 27/30\n",
      "1500/1500 [==============================] - 1s 920us/step - loss: 0.0612 - accuracy: 0.9835 - val_loss: 0.1101 - val_accuracy: 0.9677\n",
      "Epoch 28/30\n",
      "1500/1500 [==============================] - 1s 917us/step - loss: 0.0603 - accuracy: 0.9840 - val_loss: 0.1121 - val_accuracy: 0.9665\n",
      "Epoch 29/30\n",
      "1500/1500 [==============================] - 1s 891us/step - loss: 0.0601 - accuracy: 0.9839 - val_loss: 0.1119 - val_accuracy: 0.9669\n",
      "Epoch 30/30\n",
      "1500/1500 [==============================] - 1s 899us/step - loss: 0.0594 - accuracy: 0.9841 - val_loss: 0.1097 - val_accuracy: 0.9675\n"
     ]
    }
   ],
   "source": [
    "history = model.fit(train_x, train_y, epochs=30, validation_split=0.2, shuffle=True, verbose=1)"
   ]
  },
  {
   "cell_type": "code",
   "execution_count": 14,
   "id": "58fa7db0",
   "metadata": {},
   "outputs": [
    {
     "data": {
      "text/plain": [
       "(60000, 28, 28)"
      ]
     },
     "execution_count": 14,
     "metadata": {},
     "output_type": "execute_result"
    }
   ],
   "source": [
    "np.shape(train_x)"
   ]
  },
  {
   "cell_type": "code",
   "execution_count": 17,
   "id": "a2d28364",
   "metadata": {},
   "outputs": [
    {
     "data": {
      "text/html": [
       "<div>\n",
       "<style scoped>\n",
       "    .dataframe tbody tr th:only-of-type {\n",
       "        vertical-align: middle;\n",
       "    }\n",
       "\n",
       "    .dataframe tbody tr th {\n",
       "        vertical-align: top;\n",
       "    }\n",
       "\n",
       "    .dataframe thead th {\n",
       "        text-align: right;\n",
       "    }\n",
       "</style>\n",
       "<table border=\"1\" class=\"dataframe\">\n",
       "  <thead>\n",
       "    <tr style=\"text-align: right;\">\n",
       "      <th></th>\n",
       "      <th>loss</th>\n",
       "      <th>accuracy</th>\n",
       "      <th>val_loss</th>\n",
       "      <th>val_accuracy</th>\n",
       "    </tr>\n",
       "  </thead>\n",
       "  <tbody>\n",
       "    <tr>\n",
       "      <th>0</th>\n",
       "      <td>0.079986</td>\n",
       "      <td>0.977813</td>\n",
       "      <td>0.116387</td>\n",
       "      <td>0.967000</td>\n",
       "    </tr>\n",
       "    <tr>\n",
       "      <th>1</th>\n",
       "      <td>0.079131</td>\n",
       "      <td>0.977833</td>\n",
       "      <td>0.115919</td>\n",
       "      <td>0.967167</td>\n",
       "    </tr>\n",
       "    <tr>\n",
       "      <th>2</th>\n",
       "      <td>0.078214</td>\n",
       "      <td>0.978312</td>\n",
       "      <td>0.113379</td>\n",
       "      <td>0.967167</td>\n",
       "    </tr>\n",
       "    <tr>\n",
       "      <th>3</th>\n",
       "      <td>0.077309</td>\n",
       "      <td>0.978562</td>\n",
       "      <td>0.113710</td>\n",
       "      <td>0.967167</td>\n",
       "    </tr>\n",
       "    <tr>\n",
       "      <th>4</th>\n",
       "      <td>0.076336</td>\n",
       "      <td>0.978625</td>\n",
       "      <td>0.113430</td>\n",
       "      <td>0.967167</td>\n",
       "    </tr>\n",
       "  </tbody>\n",
       "</table>\n",
       "</div>"
      ],
      "text/plain": [
       "       loss  accuracy  val_loss  val_accuracy\n",
       "0  0.079986  0.977813  0.116387      0.967000\n",
       "1  0.079131  0.977833  0.115919      0.967167\n",
       "2  0.078214  0.978312  0.113379      0.967167\n",
       "3  0.077309  0.978562  0.113710      0.967167\n",
       "4  0.076336  0.978625  0.113430      0.967167"
      ]
     },
     "execution_count": 17,
     "metadata": {},
     "output_type": "execute_result"
    }
   ],
   "source": [
    "logs = pd.DataFrame(history.history)\n",
    "logs.head()"
   ]
  },
  {
   "cell_type": "code",
   "execution_count": 18,
   "id": "2bf0b5ea",
   "metadata": {},
   "outputs": [
    {
     "data": {
      "text/plain": [
       "<AxesSubplot:>"
      ]
     },
     "execution_count": 18,
     "metadata": {},
     "output_type": "execute_result"
    },
    {
     "data": {
      "image/png": "[encoded data removed]",
      "text/plain": [
       "<Figure size 432x288 with 1 Axes>"
      ]
     },
     "metadata": {
      "needs_background": "light"
     },
     "output_type": "display_data"
    }
   ],
   "source": [
    "logs.plot()"
   ]
  },
  {
   "cell_type": "code",
   "execution_count": null,
   "id": "49c9c9e6",
   "metadata": {},
   "outputs": [],
   "source": []
  }
 ],
 "metadata": {
  "kernelspec": {
   "display_name": "Python 3 (ipykernel)",
   "language": "python",
   "name": "python3"
  },
  "language_info": {
   "codemirror_mode": {
    "name": "ipython",
    "version": 3
   },
   "file_extension": ".py",
   "mimetype": "text/x-python",
   "name": "python",
   "nbconvert_exporter": "python",
   "pygments_lexer": "ipython3",
   "version": "3.8.10"
  }
 },
 "nbformat": 4,
 "nbformat_minor": 5
}
