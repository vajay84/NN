{
 "cells": [
  {
   "cell_type": "markdown",
   "id": "2572a11a",
   "metadata": {},
   "source": [
    "## Deep Neural Network for MNIST Dataset"
   ]
  },
  {
   "cell_type": "markdown",
   "id": "7394e46f",
   "metadata": {},
   "source": [
    "**Importing Libraries**"
   ]
  },
  {
   "cell_type": "code",
   "execution_count": 1,
   "id": "15c74487",
   "metadata": {},
   "outputs": [
    {
     "name": "stderr",
     "output_type": "stream",
     "text": [
      "2021-11-11 12:20:06.740525: W tensorflow/stream_executor/platform/default/dso_loader.cc:64] Could not load dynamic library 'libcudart.so.11.0'; dlerror: libcudart.so.11.0: cannot open shared object file: No such file or directory\n",
      "2021-11-11 12:20:06.740549: I tensorflow/stream_executor/cuda/cudart_stub.cc:29] Ignore above cudart dlerror if you do not have a GPU set up on your machine.\n"
     ]
    }
   ],
   "source": [
    "import pandas as pd\n",
    "import numpy as np\n",
    "import matplotlib.pyplot as plt\n",
    "import seaborn as sn\n",
    "import tensorflow.keras as keras\n",
    "import os\n",
    "import time\n",
    "from warnings import filterwarnings\n",
    "filterwarnings(\"ignore\")"
   ]
  },
  {
   "cell_type": "markdown",
   "id": "be141c3c",
   "metadata": {},
   "source": [
    "#### Loading MNIST dataset from keras"
   ]
  },
  {
   "cell_type": "code",
   "execution_count": 2,
   "id": "33c5733e",
   "metadata": {},
   "outputs": [],
   "source": [
    "mnist = keras.datasets.mnist.load_data()"
   ]
  },
  {
   "cell_type": "code",
   "execution_count": 3,
   "id": "d4e42a03",
   "metadata": {},
   "outputs": [
    {
     "name": "stdout",
     "output_type": "stream",
     "text": [
      "Shape of training data = (60000, 28, 28)\n",
      "Shape of testing data = (10000, 28, 28)\n"
     ]
    }
   ],
   "source": [
    "(train_x_all, train_y), (test_x_all, test_y) = mnist\n",
    "print(f'Shape of training data = {train_x_all.shape}')\n",
    "print(f'Shape of testing data = {test_x_all.shape}')"
   ]
  },
  {
   "cell_type": "code",
   "execution_count": 4,
   "id": "68b8c28b",
   "metadata": {},
   "outputs": [
    {
     "data": {
      "image/png": "[encoded data removed]",
      "text/plain": [
       "<Figure size 432x288 with 4 Axes>"
      ]
     },
     "metadata": {
      "needs_background": "light"
     },
     "output_type": "display_data"
    }
   ],
   "source": [
    "fig, ax =  plt.subplots(1, 4)\n",
    "for i in range(4):\n",
    "    ax[i].imshow(train_x_all[i])\n",
    "    ax[i].set_title(train_y[i])\n",
    "    ax[i].axis('off')\n",
    "    "
   ]
  },
  {
   "cell_type": "code",
   "execution_count": 5,
   "id": "77261f77",
   "metadata": {},
   "outputs": [],
   "source": [
    "train_x = train_x_all/255.0\n",
    "test_x =  test_x_all/255.0"
   ]
  },
  {
   "cell_type": "code",
   "execution_count": 6,
   "id": "13658941",
   "metadata": {},
   "outputs": [
    {
     "name": "stdout",
     "output_type": "stream",
     "text": [
      "Model: \"mnist\"\n",
      "_________________________________________________________________\n",
      "Layer (type)                 Output Shape              Param #   \n",
      "=================================================================\n",
      "Input (Flatten)              (None, 784)               0         \n",
      "_________________________________________________________________\n",
      "dense (Dense)                (None, 32)                25120     \n",
      "_________________________________________________________________\n",
      "Output (Dense)               (None, 10)                330       \n",
      "=================================================================\n",
      "Total params: 25,450\n",
      "Trainable params: 25,450\n",
      "Non-trainable params: 0\n",
      "_________________________________________________________________\n"
     ]
    },
    {
     "name": "stderr",
     "output_type": "stream",
     "text": [
      "2021-11-11 12:20:08.003564: W tensorflow/stream_executor/platform/default/dso_loader.cc:64] Could not load dynamic library 'libcuda.so.1'; dlerror: libcuda.so.1: cannot open shared object file: No such file or directory\n",
      "2021-11-11 12:20:08.003606: W tensorflow/stream_executor/cuda/cuda_driver.cc:326] failed call to cuInit: UNKNOWN ERROR (303)\n",
      "2021-11-11 12:20:08.003625: I tensorflow/stream_executor/cuda/cuda_diagnostics.cc:156] kernel driver does not appear to be running on this host (ajay-pc): /proc/driver/nvidia/version does not exist\n",
      "2021-11-11 12:20:08.003796: I tensorflow/core/platform/cpu_feature_guard.cc:142] This TensorFlow binary is optimized with oneAPI Deep Neural Network Library (oneDNN) to use the following CPU instructions in performance-critical operations:  AVX2 FMA\n",
      "To enable them in other operations, rebuild TensorFlow with the appropriate compiler flags.\n"
     ]
    }
   ],
   "source": [
    "model = keras.Sequential(name='mnist')\n",
    "model.add(keras.layers.Flatten(input_shape=[28, 28], name='Input'))\n",
    "model.add(keras.layers.Dense(32, activation='relu'))\n",
    "model.add(keras.layers.Dense(10, activation = keras.activations.softmax, name=\"Output\"))\n",
    "model.summary()"
   ]
  },
  {
   "cell_type": "markdown",
   "id": "bce4eccc",
   "metadata": {},
   "source": [
    "#### Weights and Bias of a layer"
   ]
  },
  {
   "cell_type": "code",
   "execution_count": 7,
   "id": "272a555a",
   "metadata": {},
   "outputs": [
    {
     "name": "stdout",
     "output_type": "stream",
     "text": [
      "Layer_name: dense\n",
      "Weights: [[-0.07962326  0.01480753 -0.0629125  ... -0.05856066 -0.07707524\n",
      "  -0.07111468]\n",
      " [-0.00951235 -0.06363146  0.00793763 ... -0.06330006  0.06823751\n",
      "  -0.07682103]\n",
      " [-0.08026715 -0.06861593  0.0463304  ...  0.07868072 -0.04878368\n",
      "   0.01304613]\n",
      " ...\n",
      " [-0.074177    0.00161084 -0.01483684 ...  0.06175893  0.02347156\n",
      "   0.0691779 ]\n",
      " [ 0.08011172 -0.04249029 -0.0486934  ...  0.04640429  0.00720054\n",
      "  -0.00060985]\n",
      " [-0.08176804 -0.060816    0.04591774 ...  0.06788353 -0.05918635\n",
      "   0.04855967]]\n",
      "Biases: [0. 0. 0. 0. 0. 0. 0. 0. 0. 0. 0. 0. 0. 0. 0. 0. 0. 0. 0. 0. 0. 0. 0. 0.\n",
      " 0. 0. 0. 0. 0. 0. 0. 0.]\n"
     ]
    }
   ],
   "source": [
    "layer = model.layers[1]\n",
    "weights, biases = layer.get_weights()\n",
    "print(\"Layer_name:\", layer.name)\n",
    "print(\"Weights:\", weights)\n",
    "print(\"Biases:\", biases)"
   ]
  },
  {
   "cell_type": "markdown",
   "id": "1853f98e",
   "metadata": {},
   "source": [
    "#### Compiling and training model"
   ]
  },
  {
   "cell_type": "code",
   "execution_count": 8,
   "id": "1ad15f8b",
   "metadata": {},
   "outputs": [],
   "source": [
    "model.compile(loss = keras.losses.sparse_categorical_crossentropy, optimizer = 'sgd', metrics=['accuracy'])"
   ]
  },
  {
   "cell_type": "code",
   "execution_count": 9,
   "id": "2f64ece8",
   "metadata": {},
   "outputs": [],
   "source": [
    "def get_log_dir():\n",
    "    root_dir = os.path.join(os.curdir, \"my_logs\")\n",
    "    run_id = time.strftime(\"run_%Y_%m_%d-%H_%M_%S\")\n",
    "    return os.path.join(root_dir, run_id)    "
   ]
  },
  {
   "cell_type": "code",
   "execution_count": 10,
   "id": "68b20169",
   "metadata": {},
   "outputs": [
    {
     "name": "stderr",
     "output_type": "stream",
     "text": [
      "2021-11-11 12:20:08.049155: I tensorflow/core/profiler/lib/profiler_session.cc:126] Profiler session initializing.\n",
      "2021-11-11 12:20:08.049190: I tensorflow/core/profiler/lib/profiler_session.cc:141] Profiler session started.\n",
      "2021-11-11 12:20:08.049339: I tensorflow/core/profiler/lib/profiler_session.cc:159] Profiler session tear down.\n"
     ]
    }
   ],
   "source": [
    "call_backs = [keras.callbacks.EarlyStopping(patience=5, restore_best_weights=True),\n",
    "              keras.callbacks.TensorBoard(get_log_dir())]"
   ]
  },
  {
   "cell_type": "code",
   "execution_count": 11,
   "id": "78906503",
   "metadata": {},
   "outputs": [
    {
     "name": "stderr",
     "output_type": "stream",
     "text": [
      "2021-11-11 12:20:08.196502: I tensorflow/compiler/mlir/mlir_graph_optimization_pass.cc:176] None of the MLIR Optimization Passes are enabled (registered 2)\n"
     ]
    },
    {
     "name": "stdout",
     "output_type": "stream",
     "text": [
      "Epoch 1/1000\n"
     ]
    },
    {
     "name": "stderr",
     "output_type": "stream",
     "text": [
      "2021-11-11 12:20:08.213396: I tensorflow/core/platform/profile_utils/cpu_utils.cc:114] CPU Frequency: 1800000000 Hz\n"
     ]
    },
    {
     "name": "stdout",
     "output_type": "stream",
     "text": [
      " 189/1500 [==>...........................] - ETA: 1s - loss: 1.7548 - accuracy: 0.4563"
     ]
    },
    {
     "name": "stderr",
     "output_type": "stream",
     "text": [
      "2021-11-11 12:20:08.426522: I tensorflow/core/profiler/lib/profiler_session.cc:126] Profiler session initializing.\n",
      "2021-11-11 12:20:08.426554: I tensorflow/core/profiler/lib/profiler_session.cc:141] Profiler session started.\n",
      "2021-11-11 12:20:08.430509: I tensorflow/core/profiler/lib/profiler_session.cc:66] Profiler session collecting data.\n",
      "2021-11-11 12:20:08.431150: I tensorflow/core/profiler/lib/profiler_session.cc:159] Profiler session tear down.\n",
      "2021-11-11 12:20:08.432270: I tensorflow/core/profiler/rpc/client/save_profile.cc:137] Creating directory: ./my_logs/run_2021_11_11-12_20_08/train/plugins/profile/2021_11_11_12_20_08\n",
      "2021-11-11 12:20:08.432820: I tensorflow/core/profiler/rpc/client/save_profile.cc:143] Dumped gzipped tool data for trace.json.gz to ./my_logs/run_2021_11_11-12_20_08/train/plugins/profile/2021_11_11_12_20_08/ajay-pc.trace.json.gz\n",
      "2021-11-11 12:20:08.434530: I tensorflow/core/profiler/rpc/client/save_profile.cc:137] Creating directory: ./my_logs/run_2021_11_11-12_20_08/train/plugins/profile/2021_11_11_12_20_08\n",
      "2021-11-11 12:20:08.434717: I tensorflow/core/profiler/rpc/client/save_profile.cc:143] Dumped gzipped tool data for memory_profile.json.gz to ./my_logs/run_2021_11_11-12_20_08/train/plugins/profile/2021_11_11_12_20_08/ajay-pc.memory_profile.json.gz\n",
      "2021-11-11 12:20:08.434877: I tensorflow/core/profiler/rpc/client/capture_profile.cc:251] Creating directory: ./my_logs/run_2021_11_11-12_20_08/train/plugins/profile/2021_11_11_12_20_08Dumped tool data for xplane.pb to ./my_logs/run_2021_11_11-12_20_08/train/plugins/profile/2021_11_11_12_20_08/ajay-pc.xplane.pb\n",
      "Dumped tool data for overview_page.pb to ./my_logs/run_2021_11_11-12_20_08/train/plugins/profile/2021_11_11_12_20_08/ajay-pc.overview_page.pb\n",
      "Dumped tool data for input_pipeline.pb to ./my_logs/run_2021_11_11-12_20_08/train/plugins/profile/2021_11_11_12_20_08/ajay-pc.input_pipeline.pb\n",
      "Dumped tool data for tensorflow_stats.pb to ./my_logs/run_2021_11_11-12_20_08/train/plugins/profile/2021_11_11_12_20_08/ajay-pc.tensorflow_stats.pb\n",
      "Dumped tool data for kernel_stats.pb to ./my_logs/run_2021_11_11-12_20_08/train/plugins/profile/2021_11_11_12_20_08/ajay-pc.kernel_stats.pb\n",
      "\n"
     ]
    },
    {
     "name": "stdout",
     "output_type": "stream",
     "text": [
      "1500/1500 [==============================] - 2s 1ms/step - loss: 0.7905 - accuracy: 0.7863 - val_loss: 0.4120 - val_accuracy: 0.8922\n",
      "Epoch 2/1000\n",
      "1500/1500 [==============================] - 2s 1ms/step - loss: 0.3889 - accuracy: 0.8919 - val_loss: 0.3273 - val_accuracy: 0.9088\n",
      "Epoch 3/1000\n",
      "1500/1500 [==============================] - 2s 1ms/step - loss: 0.3318 - accuracy: 0.9056 - val_loss: 0.2960 - val_accuracy: 0.9175\n",
      "Epoch 4/1000\n",
      "1500/1500 [==============================] - 1s 910us/step - loss: 0.3034 - accuracy: 0.9141 - val_loss: 0.2776 - val_accuracy: 0.9210\n",
      "Epoch 5/1000\n",
      "1500/1500 [==============================] - 1s 812us/step - loss: 0.2835 - accuracy: 0.9194 - val_loss: 0.2626 - val_accuracy: 0.9259\n",
      "Epoch 6/1000\n",
      "1500/1500 [==============================] - 2s 1ms/step - loss: 0.2676 - accuracy: 0.9233 - val_loss: 0.2531 - val_accuracy: 0.9281\n",
      "Epoch 7/1000\n",
      "1500/1500 [==============================] - 1s 904us/step - loss: 0.2543 - accuracy: 0.9276 - val_loss: 0.2398 - val_accuracy: 0.9333\n",
      "Epoch 8/1000\n",
      "1500/1500 [==============================] - 1s 949us/step - loss: 0.2426 - accuracy: 0.9309 - val_loss: 0.2298 - val_accuracy: 0.9367\n",
      "Epoch 9/1000\n",
      "1500/1500 [==============================] - 2s 1ms/step - loss: 0.2327 - accuracy: 0.9330 - val_loss: 0.2222 - val_accuracy: 0.9375\n",
      "Epoch 10/1000\n",
      "1500/1500 [==============================] - 1s 978us/step - loss: 0.2237 - accuracy: 0.9363 - val_loss: 0.2158 - val_accuracy: 0.9406\n",
      "Epoch 11/1000\n",
      "1500/1500 [==============================] - 2s 1ms/step - loss: 0.2152 - accuracy: 0.9389 - val_loss: 0.2105 - val_accuracy: 0.9408\n",
      "Epoch 12/1000\n",
      "1500/1500 [==============================] - 1s 952us/step - loss: 0.2077 - accuracy: 0.9411 - val_loss: 0.2022 - val_accuracy: 0.9444\n",
      "Epoch 13/1000\n",
      "1500/1500 [==============================] - 1s 911us/step - loss: 0.2008 - accuracy: 0.9418 - val_loss: 0.1978 - val_accuracy: 0.9459\n",
      "Epoch 14/1000\n",
      "1500/1500 [==============================] - 2s 1ms/step - loss: 0.1947 - accuracy: 0.9440 - val_loss: 0.1926 - val_accuracy: 0.9466\n",
      "Epoch 15/1000\n",
      "1500/1500 [==============================] - 2s 1ms/step - loss: 0.1884 - accuracy: 0.9459 - val_loss: 0.1884 - val_accuracy: 0.9482\n",
      "Epoch 16/1000\n",
      "1500/1500 [==============================] - 1s 898us/step - loss: 0.1830 - accuracy: 0.9479 - val_loss: 0.1836 - val_accuracy: 0.9503\n",
      "Epoch 17/1000\n",
      "1500/1500 [==============================] - 2s 1ms/step - loss: 0.1780 - accuracy: 0.9485 - val_loss: 0.1796 - val_accuracy: 0.9506\n",
      "Epoch 18/1000\n",
      "1500/1500 [==============================] - 2s 1ms/step - loss: 0.1730 - accuracy: 0.9506 - val_loss: 0.1759 - val_accuracy: 0.9517\n",
      "Epoch 19/1000\n",
      "1500/1500 [==============================] - 2s 1ms/step - loss: 0.1687 - accuracy: 0.9511 - val_loss: 0.1736 - val_accuracy: 0.9517\n",
      "Epoch 20/1000\n",
      "1500/1500 [==============================] - 1s 909us/step - loss: 0.1642 - accuracy: 0.9524 - val_loss: 0.1702 - val_accuracy: 0.9511\n",
      "Epoch 21/1000\n",
      "1500/1500 [==============================] - 1s 988us/step - loss: 0.1605 - accuracy: 0.9537 - val_loss: 0.1659 - val_accuracy: 0.9546\n",
      "Epoch 22/1000\n",
      "1500/1500 [==============================] - 2s 1ms/step - loss: 0.1564 - accuracy: 0.9550 - val_loss: 0.1644 - val_accuracy: 0.9540\n",
      "Epoch 23/1000\n",
      "1500/1500 [==============================] - 2s 1ms/step - loss: 0.1527 - accuracy: 0.9561 - val_loss: 0.1620 - val_accuracy: 0.9538\n",
      "Epoch 24/1000\n",
      "1500/1500 [==============================] - 2s 1ms/step - loss: 0.1493 - accuracy: 0.9566 - val_loss: 0.1588 - val_accuracy: 0.9550\n",
      "Epoch 25/1000\n",
      "1500/1500 [==============================] - 1s 825us/step - loss: 0.1464 - accuracy: 0.9580 - val_loss: 0.1571 - val_accuracy: 0.9555\n",
      "Epoch 26/1000\n",
      "1500/1500 [==============================] - 2s 1ms/step - loss: 0.1431 - accuracy: 0.9594 - val_loss: 0.1550 - val_accuracy: 0.9560\n",
      "Epoch 27/1000\n",
      "1500/1500 [==============================] - 2s 1ms/step - loss: 0.1400 - accuracy: 0.9604 - val_loss: 0.1532 - val_accuracy: 0.9564\n",
      "Epoch 28/1000\n",
      "1500/1500 [==============================] - 2s 1ms/step - loss: 0.1374 - accuracy: 0.9607 - val_loss: 0.1509 - val_accuracy: 0.9580\n",
      "Epoch 29/1000\n",
      "1500/1500 [==============================] - 1s 912us/step - loss: 0.1346 - accuracy: 0.9614 - val_loss: 0.1497 - val_accuracy: 0.9587\n",
      "Epoch 30/1000\n",
      "1500/1500 [==============================] - 2s 1ms/step - loss: 0.1320 - accuracy: 0.9620 - val_loss: 0.1483 - val_accuracy: 0.9574\n",
      "Epoch 31/1000\n",
      "1500/1500 [==============================] - 2s 1ms/step - loss: 0.1294 - accuracy: 0.9635 - val_loss: 0.1467 - val_accuracy: 0.9595\n",
      "Epoch 32/1000\n",
      "1500/1500 [==============================] - 2s 1ms/step - loss: 0.1270 - accuracy: 0.9635 - val_loss: 0.1451 - val_accuracy: 0.9601\n",
      "Epoch 33/1000\n",
      "1500/1500 [==============================] - 1s 987us/step - loss: 0.1248 - accuracy: 0.9644 - val_loss: 0.1454 - val_accuracy: 0.9591\n",
      "Epoch 34/1000\n",
      "1500/1500 [==============================] - 2s 1ms/step - loss: 0.1226 - accuracy: 0.9650 - val_loss: 0.1430 - val_accuracy: 0.9601\n",
      "Epoch 35/1000\n",
      "1500/1500 [==============================] - 1s 911us/step - loss: 0.1205 - accuracy: 0.9661 - val_loss: 0.1435 - val_accuracy: 0.9594\n",
      "Epoch 36/1000\n",
      "1500/1500 [==============================] - 2s 1ms/step - loss: 0.1187 - accuracy: 0.9664 - val_loss: 0.1397 - val_accuracy: 0.9605\n",
      "Epoch 37/1000\n",
      "1500/1500 [==============================] - 1s 872us/step - loss: 0.1166 - accuracy: 0.9669 - val_loss: 0.1389 - val_accuracy: 0.9598\n",
      "Epoch 38/1000\n",
      "1500/1500 [==============================] - 1s 920us/step - loss: 0.1146 - accuracy: 0.9676 - val_loss: 0.1394 - val_accuracy: 0.9603\n",
      "Epoch 39/1000\n",
      "1500/1500 [==============================] - 2s 1ms/step - loss: 0.1129 - accuracy: 0.9686 - val_loss: 0.1379 - val_accuracy: 0.9609\n",
      "Epoch 40/1000\n",
      "1500/1500 [==============================] - 2s 1ms/step - loss: 0.1113 - accuracy: 0.9684 - val_loss: 0.1355 - val_accuracy: 0.9618\n",
      "Epoch 41/1000\n",
      "1500/1500 [==============================] - 2s 1ms/step - loss: 0.1094 - accuracy: 0.9692 - val_loss: 0.1357 - val_accuracy: 0.9611\n",
      "Epoch 42/1000\n",
      "1500/1500 [==============================] - 2s 1ms/step - loss: 0.1077 - accuracy: 0.9699 - val_loss: 0.1343 - val_accuracy: 0.9613\n",
      "Epoch 43/1000\n",
      "1500/1500 [==============================] - 2s 1ms/step - loss: 0.1062 - accuracy: 0.9705 - val_loss: 0.1336 - val_accuracy: 0.9607\n",
      "Epoch 44/1000\n",
      "1500/1500 [==============================] - 1s 935us/step - loss: 0.1048 - accuracy: 0.9701 - val_loss: 0.1333 - val_accuracy: 0.9622\n",
      "Epoch 45/1000\n",
      "1500/1500 [==============================] - 1s 999us/step - loss: 0.1032 - accuracy: 0.9711 - val_loss: 0.1325 - val_accuracy: 0.9618\n",
      "Epoch 46/1000\n",
      "1500/1500 [==============================] - 2s 1ms/step - loss: 0.1019 - accuracy: 0.9714 - val_loss: 0.1319 - val_accuracy: 0.9618\n",
      "Epoch 47/1000\n",
      "1500/1500 [==============================] - 2s 1ms/step - loss: 0.1005 - accuracy: 0.9713 - val_loss: 0.1317 - val_accuracy: 0.9614\n",
      "Epoch 48/1000\n",
      "1500/1500 [==============================] - 2s 1ms/step - loss: 0.0992 - accuracy: 0.9718 - val_loss: 0.1302 - val_accuracy: 0.9630\n",
      "Epoch 49/1000\n",
      "1500/1500 [==============================] - 1s 996us/step - loss: 0.0979 - accuracy: 0.9721 - val_loss: 0.1299 - val_accuracy: 0.9631\n",
      "Epoch 50/1000\n",
      "1500/1500 [==============================] - 2s 1ms/step - loss: 0.0965 - accuracy: 0.9732 - val_loss: 0.1292 - val_accuracy: 0.9630\n",
      "Epoch 51/1000\n",
      "1500/1500 [==============================] - 2s 1ms/step - loss: 0.0953 - accuracy: 0.9730 - val_loss: 0.1291 - val_accuracy: 0.9631\n",
      "Epoch 52/1000\n",
      "1500/1500 [==============================] - 1s 981us/step - loss: 0.0941 - accuracy: 0.9733 - val_loss: 0.1279 - val_accuracy: 0.9623\n",
      "Epoch 53/1000\n",
      "1500/1500 [==============================] - 1s 854us/step - loss: 0.0930 - accuracy: 0.9732 - val_loss: 0.1279 - val_accuracy: 0.9632\n",
      "Epoch 54/1000\n",
      "1500/1500 [==============================] - 2s 1ms/step - loss: 0.0919 - accuracy: 0.9738 - val_loss: 0.1269 - val_accuracy: 0.9628\n",
      "Epoch 55/1000\n",
      "1500/1500 [==============================] - 2s 1ms/step - loss: 0.0907 - accuracy: 0.9744 - val_loss: 0.1289 - val_accuracy: 0.9613\n",
      "Epoch 56/1000\n"
     ]
    },
    {
     "name": "stdout",
     "output_type": "stream",
     "text": [
      "1500/1500 [==============================] - 1s 898us/step - loss: 0.0895 - accuracy: 0.9748 - val_loss: 0.1268 - val_accuracy: 0.9627\n",
      "Epoch 57/1000\n",
      "1500/1500 [==============================] - 1s 968us/step - loss: 0.0886 - accuracy: 0.9749 - val_loss: 0.1267 - val_accuracy: 0.9639\n",
      "Epoch 58/1000\n",
      "1500/1500 [==============================] - 2s 1ms/step - loss: 0.0874 - accuracy: 0.9751 - val_loss: 0.1258 - val_accuracy: 0.9630\n",
      "Epoch 59/1000\n",
      "1500/1500 [==============================] - 2s 1ms/step - loss: 0.0864 - accuracy: 0.9761 - val_loss: 0.1250 - val_accuracy: 0.9637\n",
      "Epoch 60/1000\n",
      "1500/1500 [==============================] - 2s 1ms/step - loss: 0.0855 - accuracy: 0.9757 - val_loss: 0.1246 - val_accuracy: 0.9642\n",
      "Epoch 61/1000\n",
      "1500/1500 [==============================] - 2s 1ms/step - loss: 0.0844 - accuracy: 0.9760 - val_loss: 0.1246 - val_accuracy: 0.9636\n",
      "Epoch 62/1000\n",
      "1500/1500 [==============================] - 2s 1ms/step - loss: 0.0835 - accuracy: 0.9763 - val_loss: 0.1244 - val_accuracy: 0.9644\n",
      "Epoch 63/1000\n",
      "1500/1500 [==============================] - 2s 1ms/step - loss: 0.0827 - accuracy: 0.9764 - val_loss: 0.1229 - val_accuracy: 0.9639\n",
      "Epoch 64/1000\n",
      "1500/1500 [==============================] - 2s 1ms/step - loss: 0.0817 - accuracy: 0.9770 - val_loss: 0.1235 - val_accuracy: 0.9641\n",
      "Epoch 65/1000\n",
      "1500/1500 [==============================] - 2s 1ms/step - loss: 0.0807 - accuracy: 0.9775 - val_loss: 0.1233 - val_accuracy: 0.9642\n",
      "Epoch 66/1000\n",
      "1500/1500 [==============================] - 2s 1ms/step - loss: 0.0798 - accuracy: 0.9778 - val_loss: 0.1231 - val_accuracy: 0.9643\n",
      "Epoch 67/1000\n",
      "1500/1500 [==============================] - 2s 1ms/step - loss: 0.0790 - accuracy: 0.9775 - val_loss: 0.1227 - val_accuracy: 0.9643\n",
      "Epoch 68/1000\n",
      "1500/1500 [==============================] - 2s 1ms/step - loss: 0.0781 - accuracy: 0.9779 - val_loss: 0.1232 - val_accuracy: 0.9647\n",
      "Epoch 69/1000\n",
      "1500/1500 [==============================] - 2s 1ms/step - loss: 0.0774 - accuracy: 0.9784 - val_loss: 0.1222 - val_accuracy: 0.9643\n",
      "Epoch 70/1000\n",
      "1500/1500 [==============================] - 2s 1ms/step - loss: 0.0761 - accuracy: 0.9783 - val_loss: 0.1221 - val_accuracy: 0.9645\n",
      "Epoch 71/1000\n",
      "1500/1500 [==============================] - 2s 1ms/step - loss: 0.0757 - accuracy: 0.9791 - val_loss: 0.1222 - val_accuracy: 0.9643\n",
      "Epoch 72/1000\n",
      "1500/1500 [==============================] - 1s 962us/step - loss: 0.0748 - accuracy: 0.9789 - val_loss: 0.1211 - val_accuracy: 0.9648\n",
      "Epoch 73/1000\n",
      "1500/1500 [==============================] - 2s 1ms/step - loss: 0.0741 - accuracy: 0.9789 - val_loss: 0.1203 - val_accuracy: 0.9650\n",
      "Epoch 74/1000\n",
      "1500/1500 [==============================] - 1s 946us/step - loss: 0.0734 - accuracy: 0.9794 - val_loss: 0.1198 - val_accuracy: 0.9647\n",
      "Epoch 75/1000\n",
      "1500/1500 [==============================] - 2s 1ms/step - loss: 0.0725 - accuracy: 0.9796 - val_loss: 0.1196 - val_accuracy: 0.9645\n",
      "Epoch 76/1000\n",
      "1500/1500 [==============================] - 2s 1ms/step - loss: 0.0717 - accuracy: 0.9799 - val_loss: 0.1218 - val_accuracy: 0.9644\n",
      "Epoch 77/1000\n",
      "1500/1500 [==============================] - 2s 1ms/step - loss: 0.0711 - accuracy: 0.9803 - val_loss: 0.1203 - val_accuracy: 0.9647\n",
      "Epoch 78/1000\n",
      "1500/1500 [==============================] - 1s 964us/step - loss: 0.0702 - accuracy: 0.9804 - val_loss: 0.1199 - val_accuracy: 0.9644\n",
      "Epoch 79/1000\n",
      "1500/1500 [==============================] - 2s 1ms/step - loss: 0.0696 - accuracy: 0.9807 - val_loss: 0.1199 - val_accuracy: 0.9651\n",
      "Epoch 80/1000\n",
      "1500/1500 [==============================] - 2s 1ms/step - loss: 0.0688 - accuracy: 0.9810 - val_loss: 0.1197 - val_accuracy: 0.9653\n"
     ]
    }
   ],
   "source": [
    "history = model.fit(train_x, train_y, epochs=1000, validation_split=0.2,\n",
    "                    shuffle=True, verbose=1, callbacks=[call_backs])"
   ]
  },
  {
   "cell_type": "code",
   "execution_count": 12,
   "id": "ba631234",
   "metadata": {},
   "outputs": [
    {
     "data": {
      "text/plain": [
       "(60000, 28, 28)"
      ]
     },
     "execution_count": 12,
     "metadata": {},
     "output_type": "execute_result"
    }
   ],
   "source": [
    "np.shape(train_x)"
   ]
  },
  {
   "cell_type": "code",
   "execution_count": 13,
   "id": "d5e8dae6",
   "metadata": {},
   "outputs": [
    {
     "data": {
      "text/plain": [
       "<AxesSubplot:>"
      ]
     },
     "execution_count": 13,
     "metadata": {},
     "output_type": "execute_result"
    },
    {
     "data": {
      "image/png": "[encoded data removed]",
      "text/plain": [
       "<Figure size 432x288 with 1 Axes>"
      ]
     },
     "metadata": {
      "needs_background": "light"
     },
     "output_type": "display_data"
    }
   ],
   "source": [
    "logs = pd.DataFrame(history.history)\n",
    "logs.plot()"
   ]
  },
  {
   "cell_type": "markdown",
   "id": "e91ec04d",
   "metadata": {},
   "source": [
    "#### Prediction and Error Metrics"
   ]
  },
  {
   "cell_type": "code",
   "execution_count": 14,
   "id": "068910f1",
   "metadata": {},
   "outputs": [
    {
     "name": "stdout",
     "output_type": "stream",
     "text": [
      "313/313 [==============================] - 0s 1ms/step - loss: 0.1176 - accuracy: 0.9643\n"
     ]
    },
    {
     "data": {
      "text/plain": [
       "[0.11760605126619339, 0.9642999768257141]"
      ]
     },
     "execution_count": 14,
     "metadata": {},
     "output_type": "execute_result"
    }
   ],
   "source": [
    "model.evaluate(test_x, test_y)"
   ]
  },
  {
   "cell_type": "code",
   "execution_count": 15,
   "id": "17cf5089",
   "metadata": {},
   "outputs": [],
   "source": [
    "y_pred_prob = model.predict(test_x)"
   ]
  },
  {
   "cell_type": "code",
   "execution_count": 16,
   "id": "d5e16b1a",
   "metadata": {},
   "outputs": [
    {
     "data": {
      "text/plain": [
       "array([[0.  , 0.  , 0.  , ..., 1.  , 0.  , 0.  ],\n",
       "       [0.  , 0.  , 1.  , ..., 0.  , 0.  , 0.  ],\n",
       "       [0.  , 0.99, 0.  , ..., 0.  , 0.  , 0.  ],\n",
       "       ...,\n",
       "       [0.  , 0.  , 0.  , ..., 0.  , 0.  , 0.  ],\n",
       "       [0.  , 0.  , 0.  , ..., 0.  , 0.  , 0.  ],\n",
       "       [0.  , 0.  , 0.  , ..., 0.  , 0.  , 0.  ]], dtype=float32)"
      ]
     },
     "execution_count": 16,
     "metadata": {},
     "output_type": "execute_result"
    }
   ],
   "source": [
    "y_pred_prob.round(2)"
   ]
  },
  {
   "cell_type": "markdown",
   "id": "d6c9eeeb",
   "metadata": {},
   "source": [
    "#### Predicting and plotting the Results"
   ]
  },
  {
   "cell_type": "code",
   "execution_count": 17,
   "id": "f6c62c48",
   "metadata": {},
   "outputs": [],
   "source": [
    "y_pred = model.predict_classes(test_x)\n"
   ]
  },
  {
   "cell_type": "code",
   "execution_count": 18,
   "id": "33124556",
   "metadata": {},
   "outputs": [
    {
     "data": {
      "image/png": "[encoded data removed]",
      "text/plain": [
       "<Figure size 576x576 with 16 Axes>"
      ]
     },
     "metadata": {
      "needs_background": "light"
     },
     "output_type": "display_data"
    }
   ],
   "source": [
    "fig, axes = plt.subplots(4, 4, figsize= (8, 8))\n",
    "for i, ax in enumerate(axes.flatten()):\n",
    "    data_ =  test_x[i]\n",
    "    color= 'g'\n",
    "    ax.imshow(data_)\n",
    "    if y_pred[i] != test_y[i]:\n",
    "        color ='r'\n",
    "    ax.set_title(f\"Pred:{y_pred[i]}| Act:{test_y[i]}\", color=color)\n",
    "    ax.axis('off')"
   ]
  },
  {
   "cell_type": "markdown",
   "id": "4ef74e0d",
   "metadata": {},
   "source": [
    "#### Confusion Matrix and classifiaction scores"
   ]
  },
  {
   "cell_type": "code",
   "execution_count": 19,
   "id": "ad080153",
   "metadata": {},
   "outputs": [
    {
     "name": "stdout",
     "output_type": "stream",
     "text": [
      "              precision    recall  f1-score   support\n",
      "\n",
      "           0       0.96      0.98      0.97       980\n",
      "           1       0.98      0.99      0.99      1135\n",
      "           2       0.96      0.96      0.96      1032\n",
      "           3       0.95      0.96      0.96      1010\n",
      "           4       0.97      0.96      0.97       982\n",
      "           5       0.96      0.96      0.96       892\n",
      "           6       0.96      0.97      0.97       958\n",
      "           7       0.96      0.97      0.97      1028\n",
      "           8       0.96      0.94      0.95       974\n",
      "           9       0.96      0.95      0.95      1009\n",
      "\n",
      "    accuracy                           0.96     10000\n",
      "   macro avg       0.96      0.96      0.96     10000\n",
      "weighted avg       0.96      0.96      0.96     10000\n",
      "\n"
     ]
    }
   ],
   "source": [
    "from sklearn.metrics import classification_report, confusion_matrix\n",
    "print(classification_report(test_y, y_pred))"
   ]
  },
  {
   "cell_type": "code",
   "execution_count": 20,
   "id": "f21c8db4",
   "metadata": {},
   "outputs": [
    {
     "data": {
      "text/plain": [
       "<AxesSubplot:>"
      ]
     },
     "execution_count": 20,
     "metadata": {},
     "output_type": "execute_result"
    },
    {
     "data": {
      "image/png": "[encoded data removed]",
      "text/plain": [
       "<Figure size 432x288 with 2 Axes>"
      ]
     },
     "metadata": {
      "needs_background": "light"
     },
     "output_type": "display_data"
    }
   ],
   "source": [
    "sn.heatmap(confusion_matrix(test_y, y_pred), cmap='Blues')"
   ]
  },
  {
   "cell_type": "code",
   "execution_count": null,
   "id": "025464b9",
   "metadata": {},
   "outputs": [],
   "source": []
  }
 ],
 "metadata": {
  "kernelspec": {
   "display_name": "Python 3 (ipykernel)",
   "language": "python",
   "name": "python3"
  },
  "language_info": {
   "codemirror_mode": {
    "name": "ipython",
    "version": 3
   },
   "file_extension": ".py",
   "mimetype": "text/x-python",
   "name": "python",
   "nbconvert_exporter": "python",
   "pygments_lexer": "ipython3",
   "version": "3.8.10"
  }
 },
 "nbformat": 4,
 "nbformat_minor": 5
}
